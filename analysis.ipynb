{
 "cells": [
  {
   "cell_type": "markdown",
   "metadata": {},
   "source": [
    "# Filter for speed related crashes"
   ]
  },
  {
   "cell_type": "markdown",
   "metadata": {},
   "source": [
    "Original dataset has over 818,000 entries, filtered dataset has a little over 68,000 (about 8.3% the original size)"
   ]
  },
  {
   "cell_type": "code",
   "execution_count": 19,
   "metadata": {},
   "outputs": [
    {
     "name": "stderr",
     "output_type": "stream",
     "text": [
      "C:\\Users\\nadee\\AppData\\Local\\Temp\\ipykernel_22584\\346252857.py:5: DtypeWarning: Columns (10) have mixed types. Specify dtype option on import or set low_memory=False.\n",
      "  df = pd.read_csv(input_file)\n"
     ]
    }
   ],
   "source": [
    "import pandas as pd\n",
    "\n",
    "def filter_and_save_csv(input_file, output_file):\n",
    "    # Read the CSV file into a pandas DataFrame\n",
    "    df = pd.read_csv(input_file)\n",
    "    # Filter rows where 'PRIM_CONTRIBUTORY_CAUSE' contains 'SPEED']\n",
    "    filtered_df = df[df['PRIM_CONTRIBUTORY_CAUSE'].str.contains('SPEED') | df['SEC_CONTRIBUTORY_CAUSE'].str.contains('SPEED')]\n",
    "\n",
    "    # Save the filtered DataFrame to a new CSV file\n",
    "    filtered_df.to_csv(output_file, index=False)\n",
    "\n",
    "\n",
    "input_file = 'Traffic_Crashes_-_Crashes_20240328.csv' # Deleted from repository because its too big for git to manage\n",
    "output_file = 'Speeding_Crashes.csv'\n",
    "filter_and_save_csv(input_file, output_file)\n"
   ]
  },
  {
   "cell_type": "markdown",
   "metadata": {},
   "source": [
    "# Import Dataset"
   ]
  },
  {
   "cell_type": "code",
   "execution_count": 21,
   "metadata": {},
   "outputs": [
    {
     "name": "stderr",
     "output_type": "stream",
     "text": [
      "C:\\Users\\nadee\\AppData\\Local\\Temp\\ipykernel_22584\\1542067939.py:3: DtypeWarning: Columns (10) have mixed types. Specify dtype option on import or set low_memory=False.\n",
      "  crashes_O = pd.read_csv('Traffic_Crashes_-_Crashes_20240328.csv')\n"
     ]
    },
    {
     "name": "stdout",
     "output_type": "stream",
     "text": [
      "Original: 818218\n",
      "Crashes: 68088\n",
      "Cameras: 161\n"
     ]
    }
   ],
   "source": [
    "import pandas as pd\n",
    "crashes = pd.read_csv('Speeding_Crashes.csv')\n",
    "crashes_O = pd.read_csv('Traffic_Crashes_-_Crashes_20240328.csv')\n",
    "cameras = pd.read_csv('Map_-_Speed_Camera_Locations.csv')\n",
    "\n",
    "print(\"Original:\", len(crashes_O))\n",
    "print(\"Crashes:\", len(crashes))\n",
    "print(\"Cameras:\", len(cameras))"
   ]
  }
 ],
 "metadata": {
  "kernelspec": {
   "display_name": "Python 3",
   "language": "python",
   "name": "python3"
  },
  "language_info": {
   "codemirror_mode": {
    "name": "ipython",
    "version": 3
   },
   "file_extension": ".py",
   "mimetype": "text/x-python",
   "name": "python",
   "nbconvert_exporter": "python",
   "pygments_lexer": "ipython3",
   "version": "3.10.4"
  }
 },
 "nbformat": 4,
 "nbformat_minor": 2
}
