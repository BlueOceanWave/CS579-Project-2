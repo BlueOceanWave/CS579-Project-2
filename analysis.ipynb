{
 "cells": [
  {
   "cell_type": "markdown",
   "metadata": {},
   "source": [
    "# Filter for speed related crashes"
   ]
  },
  {
   "cell_type": "markdown",
   "metadata": {},
   "source": [
    "Original dataset has over 39 million entries, filtered dataset has a little over 1.8 million (about 4.5% the original size)"
   ]
  },
  {
   "cell_type": "code",
   "execution_count": 19,
   "metadata": {},
   "outputs": [
    {
     "name": "stderr",
     "output_type": "stream",
     "text": [
      "C:\\Users\\nadee\\AppData\\Local\\Temp\\ipykernel_21340\\2357005438.py:5: DtypeWarning: Columns (10) have mixed types. Specify dtype option on import or set low_memory=False.\n",
      "  df = pd.read_csv(input_file)\n"
     ]
    },
    {
     "name": "stdout",
     "output_type": "stream",
     "text": [
      "39274464\n",
      "1834896\n"
     ]
    }
   ],
   "source": [
    "import pandas as pd\n",
    "\n",
    "def filter_and_save_csv(input_file, output_file):\n",
    "    # Read the CSV file into a pandas DataFrame\n",
    "    df = pd.read_csv(input_file)\n",
    "    # Filter rows where 'PRIM_CONTRIBUTORY_CAUSE' contains 'SPEED'\n",
    "    filtered_df = df[df['PRIM_CONTRIBUTORY_CAUSE'].str.contains('SPEED')]\n",
    "\n",
    "    # Save the filtered DataFrame to a new CSV file\n",
    "    filtered_df.to_csv(output_file, index=False)\n",
    "\n",
    "\n",
    "input_file = 'Traffic_Crashes_-_Crashes_20240328.csv' # Deleted from repository because its too big for git to manage\n",
    "output_file = 'Speeding_Crashes.csv'\n",
    "# filter_and_save_csv(input_file, output_file)\n"
   ]
  },
  {
   "cell_type": "markdown",
   "metadata": {},
   "source": [
    "# Import Dataset"
   ]
  },
  {
   "cell_type": "code",
   "execution_count": 21,
   "metadata": {},
   "outputs": [
    {
     "name": "stdout",
     "output_type": "stream",
     "text": [
      "Crashes: 1834896\n",
      "Cameras: 1127\n"
     ]
    }
   ],
   "source": [
    "import pandas as pd\n",
    "crashes = pd.read_csv('Speeding_Crashes.csv')\n",
    "cameras = pd.read_csv('Map_-_Speed_Camera_Locations.csv')\n",
    "\n",
    "print(\"Crashes:\", crashes.size)\n",
    "print(\"Cameras:\", cameras.size)"
   ]
  },
  {
   "cell_type": "code",
   "execution_count": null,
   "metadata": {},
   "outputs": [],
   "source": []
  }
 ],
 "metadata": {
  "kernelspec": {
   "display_name": "Python 3",
   "language": "python",
   "name": "python3"
  },
  "language_info": {
   "codemirror_mode": {
    "name": "ipython",
    "version": 3
   },
   "file_extension": ".py",
   "mimetype": "text/x-python",
   "name": "python",
   "nbconvert_exporter": "python",
   "pygments_lexer": "ipython3",
   "version": "3.10.4"
  }
 },
 "nbformat": 4,
 "nbformat_minor": 2
}
