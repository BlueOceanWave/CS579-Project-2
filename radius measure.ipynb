{
 "cells": [
  {
   "cell_type": "markdown",
   "metadata": {},
   "source": [
    "# Radius Measure"
   ]
  },
  {
   "cell_type": "code",
   "execution_count": 14,
   "metadata": {},
   "outputs": [],
   "source": [
    "import networkx as nx\n",
    "import matplotlib.pyplot as plt\n",
    "import pandas as pd\n",
    "import numpy as np\n",
    "import json\n",
    "import math"
   ]
  },
  {
   "cell_type": "code",
   "execution_count": 2,
   "metadata": {},
   "outputs": [],
   "source": [
    "file1 = 'Traffic Lights.json'\n",
    "file2 = 'Speeding_Crashes.csv'\n",
    "G = nx.Graph()"
   ]
  },
  {
   "cell_type": "code",
   "execution_count": 20,
   "metadata": {},
   "outputs": [],
   "source": [
    "with open(file1, 'r') as f:\n",
    "    data = json.load(f)\n",
    "    \n",
    "df = pd.read_csv(file2)\n",
    "df = df[~(np.isnan(df['LONGITUDE']) | (df['LONGITUDE'] == 0))]\n",
    "\n",
    "def crash_density(df, lat, lon):\n",
    "    crashes = 0\n",
    "    radius = 1/54.6/8\n",
    "    for index, row in df.iterrows():\n",
    "        dist = math.dist((row['LATITUDE'], row['LONGITUDE']), (lat, lon))\n",
    "        if dist < radius:\n",
    "            crashes+=1 \n",
    "\n",
    "    return crashes\n",
    "\n",
    "crash_density(df, 41.951839, -87.654611)"
   ]
  }
 ],
 "metadata": {
  "kernelspec": {
   "display_name": "Python 3",
   "language": "python",
   "name": "python3"
  },
  "language_info": {
   "codemirror_mode": {
    "name": "ipython",
    "version": 3
   },
   "file_extension": ".py",
   "mimetype": "text/x-python",
   "name": "python",
   "nbconvert_exporter": "python",
   "pygments_lexer": "ipython3",
   "version": "3.10.4"
  }
 },
 "nbformat": 4,
 "nbformat_minor": 2
}
