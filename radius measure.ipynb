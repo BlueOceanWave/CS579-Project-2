{
 "cells": [
  {
   "cell_type": "markdown",
   "metadata": {},
   "source": [
    "# Radius Measure"
   ]
  },
  {
   "cell_type": "code",
   "execution_count": 1,
   "metadata": {},
   "outputs": [],
   "source": [
    "import networkx as nx\n",
    "import matplotlib.pyplot as plt\n",
    "import pandas as pd\n",
    "import numpy as np\n",
    "import json"
   ]
  },
  {
   "cell_type": "code",
   "execution_count": 2,
   "metadata": {},
   "outputs": [],
   "source": [
    "file1 = 'Traffic Lights.json'\n",
    "file2 = 'Speeding_Crashes.csv'\n",
    "G = nx.Graph()"
   ]
  },
  {
   "cell_type": "code",
   "execution_count": 3,
   "metadata": {},
   "outputs": [],
   "source": [
    "with open(file1, 'r') as f:\n",
    "    data = json.load(f)\n",
    "    \n",
    "df = pd.read_csv(file2)"
   ]
  },
  {
   "cell_type": "code",
   "execution_count": null,
   "metadata": {},
   "outputs": [],
   "source": [
    "crash_dist = {}\n",
    "for light in data['elements']:\n",
    "    pos = (light['lon'], light['lat'])\n",
    "    crashes = 0\n",
    "    for i in range(0, len(df)):\n",
    "        \n",
    "        # lon N-S, block=1/8 mile\n",
    "        if (df['LONGITUDE'][i] >= pos[0] + ((1/54.6)/8)) or (df['LONGITUDE'][i] <= pos[0] - ((1/54.6)/8)):\n",
    "            crashes+=1\n",
    "            \n",
    "        # lat E-W, block=1/16 mile\n",
    "        elif (df['LATITUDE'][i] >= pos[1] + ((1/54.6)/16)) or (df['LATITUDE'][i] <= pos[1] - ((1/54.6)/16)):\n",
    "            crashes+=1\n",
    "            \n",
    "    crash_dist[light['id']] = crashes"
   ]
  },
  {
   "cell_type": "code",
   "execution_count": null,
   "metadata": {},
   "outputs": [],
   "source": [
    "for key, value in crash_dist:\n",
    "    print(key + '\\n' + value)"
   ]
  },
  {
   "cell_type": "code",
   "execution_count": null,
   "metadata": {},
   "outputs": [],
   "source": []
  }
 ],
 "metadata": {
  "kernelspec": {
   "display_name": "py38",
   "language": "python",
   "name": "py38"
  },
  "language_info": {
   "codemirror_mode": {
    "name": "ipython",
    "version": 3
   },
   "file_extension": ".py",
   "mimetype": "text/x-python",
   "name": "python",
   "nbconvert_exporter": "python",
   "pygments_lexer": "ipython3",
   "version": "3.8.16"
  }
 },
 "nbformat": 4,
 "nbformat_minor": 2
}
