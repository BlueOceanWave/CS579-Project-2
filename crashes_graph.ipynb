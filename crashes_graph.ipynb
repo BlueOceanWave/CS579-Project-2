{
 "cells": [
  {
   "cell_type": "markdown",
   "metadata": {},
   "source": [
    "# Traffic Lights Node Visualization"
   ]
  },
  {
   "cell_type": "code",
   "execution_count": 5,
   "metadata": {},
   "outputs": [],
   "source": [
    "import networkx as nx\n",
    "import matplotlib.pyplot as plt\n",
    "import pandas as pd\n",
    "import numpy as np"
   ]
  },
  {
   "cell_type": "code",
   "execution_count": 16,
   "metadata": {},
   "outputs": [],
   "source": [
    "file = 'Speeding_Crashes.csv'\n",
    "G = nx.Graph()"
   ]
  },
  {
   "cell_type": "markdown",
   "metadata": {},
   "source": [
    "### Formatting Data"
   ]
  },
  {
   "cell_type": "code",
   "execution_count": 17,
   "metadata": {},
   "outputs": [
    {
     "name": "stdout",
     "output_type": "stream",
     "text": [
      "('4df671fbe8c05f922815548ce02088338ea8fb3f2ccdc94641220288975db5315a2bed04c0abd3173efef3cc7286058db7c2b4f0204807798b662579602c53e7', {'pos': (41.937075759, -87.71227195), 'lat': 41.937075759, 'lon': -87.71227195})\n",
      "('00f27c638c3c9a34fd7e31c4e7ce946ad96411b53b7b8dea185c47cce47c7f0fab5fbcca115db36f1fbd23cd041ca70b253fae6db7889fbad927b8760201371d', {'pos': (41.97574658, -87.718486628), 'lat': 41.97574658, 'lon': -87.718486628})\n",
      "('6629815247634dc6ab844e204b44541eadf87d4025a0f5c876b45692ccc5df1f6ebf158cba6d0ced1cf99e62f071c1ac0f144e6d99fdd976a9e818fe84945a35', {'pos': (41.779343231, -87.679808788), 'lat': 41.779343231, 'lon': -87.679808788})\n",
      "('ce8c91af62baf2128c21567b20176e03ec834b3b8feeaad421c16af02a7d805bcfd2a9cf942fda3e8a4d22014e0852d6cd17b6e684000db174d970509cb485a6', {'pos': (41.938037456, -87.744246854), 'lat': 41.938037456, 'lon': -87.744246854})\n"
     ]
    }
   ],
   "source": [
    "missing = 0\n",
    "df = pd.read_csv(file)\n",
    "for i in range(0, len(df)):\n",
    "    if np.isnan(df['LONGITUDE'][i]):\n",
    "        missing += 1\n",
    "    else:\n",
    "        G.add_node(df['CRASH_RECORD_ID'][i], \n",
    "               pos=(df['LATITUDE'][i], df['LONGITUDE'][i]),\n",
    "               lat=df['LATITUDE'][i], \n",
    "               lon=df['LONGITUDE'][i])\n",
    "        \n",
    "print(list(G.nodes(data=True))[5])\n",
    "print(list(G.nodes(data=True))[1005])\n",
    "print(list(G.nodes(data=True))[15678])\n",
    "print(list(G.nodes(data=True))[30789])"
   ]
  },
  {
   "cell_type": "markdown",
   "metadata": {},
   "source": [
    "### Plotting Graph"
   ]
  },
  {
   "cell_type": "code",
   "execution_count": 18,
   "metadata": {},
   "outputs": [
    {
     "data": {
      "image/png": "[encoded data removed]",
      "text/plain": [
       "<Figure size 640x480 with 1 Axes>"
      ]
     },
     "metadata": {},
     "output_type": "display_data"
    }
   ],
   "source": [
    "pos=nx.get_node_attributes(G,'pos')\n",
    "\n",
    "# Draw and save graph\n",
    "nx.draw(G, pos)\n",
    "\n",
    "#plt.savefig(\"graph.png\", dpi=1000)\n",
    "# plt.show()"
   ]
  },
  {
   "cell_type": "code",
   "execution_count": null,
   "metadata": {},
   "outputs": [],
   "source": []
  }
 ],
 "metadata": {
  "kernelspec": {
   "display_name": "py38",
   "language": "python",
   "name": "py38"
  },
  "language_info": {
   "codemirror_mode": {
    "name": "ipython",
    "version": 3
   },
   "file_extension": ".py",
   "mimetype": "text/x-python",
   "name": "python",
   "nbconvert_exporter": "python",
   "pygments_lexer": "ipython3",
   "version": "3.8.16"
  }
 },
 "nbformat": 4,
 "nbformat_minor": 2
}
